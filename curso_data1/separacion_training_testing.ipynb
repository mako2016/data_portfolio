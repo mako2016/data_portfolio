{
  "nbformat": 4,
  "nbformat_minor": 0,
  "metadata": {
    "colab": {
      "private_outputs": true,
      "provenance": [],
      "authorship_tag": "ABX9TyOQHHgUhw0XApcf4ZFCNkxx",
      "include_colab_link": true
    },
    "kernelspec": {
      "name": "python3",
      "display_name": "Python 3"
    },
    "language_info": {
      "name": "python"
    }
  },
  "cells": [
    {
      "cell_type": "markdown",
      "metadata": {
        "id": "view-in-github",
        "colab_type": "text"
      },
      "source": [
        "<a href=\"https://colab.research.google.com/github/mako2016/data_portfolio/blob/main/curso_data1/separacion_training_testing.ipynb\" target=\"_parent\"><img src=\"https://colab.research.google.com/assets/colab-badge.svg\" alt=\"Open In Colab\"/></a>"
      ]
    },
    {
      "cell_type": "markdown",
      "source": [
        "\n",
        "\n",
        "```\n",
        "# Separar conjunto de entrenamiento y el conjunto de Testing.\n",
        "```\n",
        "\n"
      ],
      "metadata": {
        "id": "V7tacTu_z8rP"
      }
    },
    {
      "cell_type": "code",
      "execution_count": null,
      "metadata": {
        "id": "fTJ9kDkYz4uX"
      },
      "outputs": [],
      "source": [
        "from google.colab import drive\n",
        "drive.mount('/content/drive')"
      ]
    },
    {
      "cell_type": "code",
      "source": [
        "import numpy as np\n",
        "import pandas as pd\n",
        "import matplotlib.pyplot as plt\n",
        "import os\n",
        "import random\n"
      ],
      "metadata": {
        "id": "HR7KrrZS1g9t"
      },
      "execution_count": null,
      "outputs": []
    },
    {
      "cell_type": "code",
      "source": [
        "! ls /content/drive/"
      ],
      "metadata": {
        "id": "lCiuCwnj9usE"
      },
      "execution_count": null,
      "outputs": []
    },
    {
      "cell_type": "code",
      "source": [
        "os.chdir('/content/drive/MyDrive/datasets/customer-churn-model/')\n",
        "df=pd.read_csv('Customer-Churn-Model.txt')"
      ],
      "metadata": {
        "id": "Bzrx4NTH19K8"
      },
      "execution_count": null,
      "outputs": []
    },
    {
      "cell_type": "code",
      "source": [
        "df.head()"
      ],
      "metadata": {
        "id": "uzjiOLRRM1HZ"
      },
      "execution_count": null,
      "outputs": []
    },
    {
      "cell_type": "markdown",
      "source": [
        "## Division de la muestra en dos grupos training y testing.\n",
        "\n",
        "Se utilizaran 3 metodos:\n",
        "1. Utilizando la distribucion normal (ventaja se puede establecer el seed,\n",
        "para obtener siempre los mismos subconjuntos)\n",
        "2. Utilizando la libreria sklearn.\n",
        "3. Utilizando el metodo shuffle de sklearn.\n",
        "\n"
      ],
      "metadata": {
        "id": "n9zgCWzzwfKi"
      }
    },
    {
      "cell_type": "code",
      "source": [
        "len(df)"
      ],
      "metadata": {
        "id": "XxESZaWcNpXm"
      },
      "execution_count": null,
      "outputs": []
    },
    {
      "cell_type": "code",
      "source": [
        "check=np.random.randn(len(df))"
      ],
      "metadata": {
        "id": "fDcgGmec3iO3"
      },
      "execution_count": null,
      "outputs": []
    },
    {
      "cell_type": "code",
      "source": [
        "##Check es una array con 3333 valores float random segun distribucion normal.\n",
        "check"
      ],
      "metadata": {
        "id": "xcr1XwWFNECP"
      },
      "execution_count": null,
      "outputs": []
    },
    {
      "cell_type": "code",
      "source": [
        "plt.hist(check)"
      ],
      "metadata": {
        "id": "H6RZK0GgNHPl"
      },
      "execution_count": null,
      "outputs": []
    },
    {
      "cell_type": "markdown",
      "source": [
        "Aca defino que porcentaje de la muestra es para training y cual es para testing. suponemos un 80% 20%."
      ],
      "metadata": {
        "id": "gux8zVQeORDW"
      }
    },
    {
      "cell_type": "code",
      "source": [
        "##Aca tomo el array con numeros aleatorios de la N(0,1). Esto es una aproximacion \n",
        "cut_off=check <= 0.8\n",
        "#np.where(cut_off==False)\n",
        "training=check[cut_off]\n",
        "testing=check[~cut_off]"
      ],
      "metadata": {
        "id": "t6HZTvFeNUXj"
      },
      "execution_count": null,
      "outputs": []
    },
    {
      "cell_type": "code",
      "source": [
        "len(training)"
      ],
      "metadata": {
        "id": "r49JCSdrPNj8"
      },
      "execution_count": null,
      "outputs": []
    },
    {
      "cell_type": "code",
      "source": [
        "len(testing)"
      ],
      "metadata": {
        "id": "c79dGVwoTbGT"
      },
      "execution_count": null,
      "outputs": []
    },
    {
      "cell_type": "markdown",
      "source": [
        "Utilizo la libreria sklearn\n",
        "ramdom_state es la semilla."
      ],
      "metadata": {
        "id": "e980c2xFxZyw"
      }
    },
    {
      "cell_type": "code",
      "source": [
        "from sklearn.model_selection import train_test_split"
      ],
      "metadata": {
        "id": "BmtnD7oATcpA"
      },
      "execution_count": null,
      "outputs": []
    },
    {
      "cell_type": "code",
      "source": [
        "train,test = train_test_split(df, test_size=0.2 , random_state=42)"
      ],
      "metadata": {
        "id": "HlOrpcVV0X4W"
      },
      "execution_count": null,
      "outputs": []
    },
    {
      "cell_type": "code",
      "source": [
        "train"
      ],
      "metadata": {
        "id": "H4exs9HJ2F7k"
      },
      "execution_count": null,
      "outputs": []
    },
    {
      "cell_type": "code",
      "source": [
        "len(train)"
      ],
      "metadata": {
        "id": "Qo685Gwr0_mI"
      },
      "execution_count": null,
      "outputs": []
    },
    {
      "cell_type": "code",
      "source": [
        "len(test)"
      ],
      "metadata": {
        "id": "IGayZ_wq1cUI"
      },
      "execution_count": null,
      "outputs": []
    },
    {
      "cell_type": "markdown",
      "source": [
        "Utilizando shufle de sklearn"
      ],
      "metadata": {
        "id": "Ofg6xe1D1jRh"
      }
    },
    {
      "cell_type": "code",
      "source": [
        "import sklearn"
      ],
      "metadata": {
        "id": "af2y7OZ61dzJ"
      },
      "execution_count": null,
      "outputs": []
    },
    {
      "cell_type": "code",
      "source": [
        "data=sklearn.utils.shuffle(df)"
      ],
      "metadata": {
        "id": "N4dkl_Emen8O"
      },
      "execution_count": null,
      "outputs": []
    },
    {
      "cell_type": "code",
      "source": [
        "cut_id=int(0.75*len(data))\n",
        "\n",
        "training_data=data[:cut_id]\n",
        "test_data=data[cut_id+1:]\n"
      ],
      "metadata": {
        "id": "XlI3Zb2qezJ5"
      },
      "execution_count": null,
      "outputs": []
    },
    {
      "cell_type": "code",
      "source": [],
      "metadata": {
        "id": "K8JjA6R63O9H"
      },
      "execution_count": null,
      "outputs": []
    }
  ]
}
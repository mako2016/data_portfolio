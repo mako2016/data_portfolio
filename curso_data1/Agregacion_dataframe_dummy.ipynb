{
  "nbformat": 4,
  "nbformat_minor": 0,
  "metadata": {
    "colab": {
      "provenance": [],
      "authorship_tag": "ABX9TyMYOP24o1e+JSDe1CsL/0bo",
      "include_colab_link": true
    },
    "kernelspec": {
      "name": "python3",
      "display_name": "Python 3"
    },
    "language_info": {
      "name": "python"
    }
  },
  "cells": [
    {
      "cell_type": "markdown",
      "metadata": {
        "id": "view-in-github",
        "colab_type": "text"
      },
      "source": [
        "<a href=\"https://colab.research.google.com/github/mako2016/data_portfolio/blob/main/curso_data1/Agregacion_dataframe_dummy.ipynb\" target=\"_parent\"><img src=\"https://colab.research.google.com/assets/colab-badge.svg\" alt=\"Open In Colab\"/></a>"
      ]
    },
    {
      "cell_type": "markdown",
      "source": [
        "Agregacion de datos por categoria"
      ],
      "metadata": {
        "id": "ovgZgL-AluKc"
      }
    },
    {
      "cell_type": "code",
      "source": [
        "import pandas as pd\n",
        "import numpy as np\n"
      ],
      "metadata": {
        "id": "ntkFd6Oul4TG"
      },
      "execution_count": null,
      "outputs": []
    },
    {
      "cell_type": "code",
      "source": [
        "gender=['male','female']\n",
        "income=['poor','middle class','Rich']\n"
      ],
      "metadata": {
        "id": "oDteYvd2mHVV"
      },
      "execution_count": null,
      "outputs": []
    },
    {
      "cell_type": "code",
      "source": [
        "gender_array=[]\n",
        "income_array=[]\n",
        "\n",
        "n=500"
      ],
      "metadata": {
        "id": "u1u7OOs0mYUX"
      },
      "execution_count": null,
      "outputs": []
    },
    {
      "cell_type": "code",
      "source": [
        "for i in range(n):\n",
        "  gender_array.append(np.random.choice(gender))\n",
        "  income_array.append(np.random.choice(income))\n"
      ],
      "metadata": {
        "id": "tnZAI9mimizQ"
      },
      "execution_count": null,
      "outputs": []
    },
    {
      "cell_type": "code",
      "source": [
        "## Z-> normal(0,1)\n",
        "## N(m,s)=m+s*Z\n",
        "\n",
        "heigth = 160 + 30 * np.random.randn(n)\n",
        "weigth = 65 + 25 * np.random.randn(n)\n",
        "age = 30 + 12 * np.random.randn(n)\n",
        "income= 18000 + 3500 * np.random.randn(n)\n",
        "\n"
      ],
      "metadata": {
        "id": "3uKKE596oDKQ"
      },
      "execution_count": null,
      "outputs": []
    },
    {
      "cell_type": "code",
      "source": [
        "##Se crea un dataset dummy para probar las funciones de agregacion, no tiene nningun sentido en si mismo.\n",
        "\n",
        "\n",
        "df=pd.DataFrame(\n",
        "    {\n",
        "        \"gender\": gender_array, \n",
        "        \"Social Income\" : income_array,\n",
        "        \"heigth\": heigth,\n",
        "        \"weigth\": weigth,\n",
        "        \"age\": age,\n",
        "        \"income\" : income\n",
        "    }\n",
        ")"
      ],
      "metadata": {
        "id": "OQKkJTjGoO3T"
      },
      "execution_count": null,
      "outputs": []
    },
    {
      "cell_type": "code",
      "source": [
        "##Agrupacion por columnas\n",
        "\n",
        "gender_group=df.groupby(\"gender\")"
      ],
      "metadata": {
        "id": "kF4uWsef1Amm"
      },
      "execution_count": null,
      "outputs": []
    },
    {
      "cell_type": "code",
      "source": [
        "##Me muestra los groupos y en que filas aparece cada miembro del grupo.\n",
        "\n",
        "gender_group.groups"
      ],
      "metadata": {
        "id": "Yu4XnjCO2nr2"
      },
      "execution_count": null,
      "outputs": []
    },
    {
      "cell_type": "code",
      "source": [],
      "metadata": {
        "id": "a3muesRP2t7q"
      },
      "execution_count": null,
      "outputs": []
    }
  ]
}
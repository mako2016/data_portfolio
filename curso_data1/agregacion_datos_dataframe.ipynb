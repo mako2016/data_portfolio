{
  "nbformat": 4,
  "nbformat_minor": 0,
  "metadata": {
    "colab": {
      "provenance": [],
      "authorship_tag": "ABX9TyMYOP24o1e+JSDe1CsL/0bo",
      "include_colab_link": true
    },
    "kernelspec": {
      "name": "python3",
      "display_name": "Python 3"
    },
    "language_info": {
      "name": "python"
    }
  },
  "cells": [
    {
      "cell_type": "markdown",
      "metadata": {
        "id": "view-in-github",
        "colab_type": "text"
      },
      "source": [
        "<a href=\"https://colab.research.google.com/github/mako2016/data_portfolio/blob/main/curso_data1/agregacion_datos_dataframe.ipynb\" target=\"_parent\"><img src=\"https://colab.research.google.com/assets/colab-badge.svg\" alt=\"Open In Colab\"/></a>"
      ]
    },
    {
      "cell_type": "markdown",
      "source": [
        "Agregacion de datos por categoria"
      ],
      "metadata": {
        "id": "ovgZgL-AluKc"
      }
    },
    {
      "cell_type": "code",
      "source": [
        "import pandas as pd\n",
        "import numpy as np\n"
      ],
      "metadata": {
        "id": "ntkFd6Oul4TG"
      },
      "execution_count": 2,
      "outputs": []
    },
    {
      "cell_type": "code",
      "source": [
        "gender=['male','female']\n",
        "income=['poor','middle class','Rich']\n"
      ],
      "metadata": {
        "id": "oDteYvd2mHVV"
      },
      "execution_count": 3,
      "outputs": []
    },
    {
      "cell_type": "code",
      "source": [
        "gender_array=[]\n",
        "income_array=[]\n",
        "\n",
        "n=500"
      ],
      "metadata": {
        "id": "u1u7OOs0mYUX"
      },
      "execution_count": 4,
      "outputs": []
    },
    {
      "cell_type": "code",
      "source": [
        "for i in range(n):\n",
        "  gender_array.append(np.random.choice(gender))\n",
        "  income_array.append(np.random.choice(income))\n"
      ],
      "metadata": {
        "id": "tnZAI9mimizQ"
      },
      "execution_count": 5,
      "outputs": []
    },
    {
      "cell_type": "code",
      "source": [
        "## Z-> normal(0,1)\n",
        "## N(m,s)=m+s*Z\n",
        "\n",
        "heigth = 160 + 30 * np.random.randn(n)\n",
        "weigth = 65 + 25 * np.random.randn(n)\n",
        "age = 30 + 12 * np.random.randn(n)\n",
        "income= 18000 + 3500 * np.random.randn(n)\n",
        "\n"
      ],
      "metadata": {
        "id": "3uKKE596oDKQ"
      },
      "execution_count": 8,
      "outputs": []
    },
    {
      "cell_type": "code",
      "source": [
        "##Se crea un dataset dummy para probar las funciones de agregacion, no tiene nningun sentido en si mismo.\n",
        "\n",
        "\n",
        "df=pd.DataFrame(\n",
        "    {\n",
        "        \"gender\": gender_array, \n",
        "        \"Social Income\" : income_array,\n",
        "        \"heigth\": heigth,\n",
        "        \"weigth\": weigth,\n",
        "        \"age\": age,\n",
        "        \"income\" : income\n",
        "    }\n",
        ")"
      ],
      "metadata": {
        "id": "OQKkJTjGoO3T"
      },
      "execution_count": 11,
      "outputs": []
    },
    {
      "cell_type": "code",
      "source": [
        "##Agrupacion por columnas\n",
        "\n",
        "gender_group=df.groupby(\"gender\")"
      ],
      "metadata": {
        "id": "kF4uWsef1Amm"
      },
      "execution_count": 12,
      "outputs": []
    },
    {
      "cell_type": "code",
      "source": [
        "##Me muestra los groupos y en que filas aparece cada miembro del grupo.\n",
        "\n",
        "gender_group.groups"
      ],
      "metadata": {
        "colab": {
          "base_uri": "https://localhost:8080/"
        },
        "id": "Yu4XnjCO2nr2",
        "outputId": "875682ca-c481-4896-caac-065f588e79d1"
      },
      "execution_count": 14,
      "outputs": [
        {
          "output_type": "execute_result",
          "data": {
            "text/plain": [
              "{'female': [0, 1, 2, 4, 5, 7, 10, 12, 13, 14, 18, 23, 24, 25, 27, 28, 29, 31, 32, 35, 36, 40, 41, 42, 43, 44, 45, 47, 48, 51, 53, 54, 58, 59, 60, 61, 62, 65, 66, 67, 68, 69, 70, 75, 77, 78, 81, 83, 84, 86, 90, 91, 94, 95, 96, 97, 100, 103, 104, 105, 106, 107, 108, 113, 115, 118, 119, 120, 121, 124, 128, 129, 131, 132, 133, 134, 135, 137, 139, 141, 142, 144, 145, 147, 148, 152, 153, 154, 155, 156, 157, 158, 161, 162, 164, 168, 170, 171, 172, 174, ...], 'male': [3, 6, 8, 9, 11, 15, 16, 17, 19, 20, 21, 22, 26, 30, 33, 34, 37, 38, 39, 46, 49, 50, 52, 55, 56, 57, 63, 64, 71, 72, 73, 74, 76, 79, 80, 82, 85, 87, 88, 89, 92, 93, 98, 99, 101, 102, 109, 110, 111, 112, 114, 116, 117, 122, 123, 125, 126, 127, 130, 136, 138, 140, 143, 146, 149, 150, 151, 159, 160, 163, 165, 166, 167, 169, 173, 175, 178, 184, 186, 187, 188, 191, 194, 198, 200, 202, 203, 205, 208, 209, 210, 214, 216, 220, 224, 229, 232, 233, 237, 238, ...]}"
            ]
          },
          "metadata": {},
          "execution_count": 14
        }
      ]
    },
    {
      "cell_type": "code",
      "source": [],
      "metadata": {
        "id": "a3muesRP2t7q"
      },
      "execution_count": null,
      "outputs": []
    }
  ]
}
{
  "nbformat": 4,
  "nbformat_minor": 0,
  "metadata": {
    "colab": {
      "provenance": [],
      "authorship_tag": "ABX9TyMVbghftTGlv1uSWzzBIVhL",
      "include_colab_link": true
    },
    "kernelspec": {
      "name": "python3",
      "display_name": "Python 3"
    },
    "language_info": {
      "name": "python"
    }
  },
  "cells": [
    {
      "cell_type": "markdown",
      "metadata": {
        "id": "view-in-github",
        "colab_type": "text"
      },
      "source": [
        "<a href=\"https://colab.research.google.com/github/mako2016/data_portfolio/blob/main/curso-data1/agregacion_datos_categoria.ipynb\" target=\"_parent\"><img src=\"https://colab.research.google.com/assets/colab-badge.svg\" alt=\"Open In Colab\"/></a>"
      ]
    },
    {
      "cell_type": "markdown",
      "source": [
        "Agregacion de datos por categoria"
      ],
      "metadata": {
        "id": "ovgZgL-AluKc"
      }
    },
    {
      "cell_type": "code",
      "source": [
        "import pandas as pd\n",
        "import numpy as np\n"
      ],
      "metadata": {
        "id": "ntkFd6Oul4TG"
      },
      "execution_count": 2,
      "outputs": []
    },
    {
      "cell_type": "code",
      "source": [
        "gender=['male','female']\n",
        "income=['poor','middle class','Rich']\n"
      ],
      "metadata": {
        "id": "oDteYvd2mHVV"
      },
      "execution_count": 3,
      "outputs": []
    },
    {
      "cell_type": "code",
      "source": [
        "gender_array=[]\n",
        "income_array=[]\n",
        "\n",
        "n=500"
      ],
      "metadata": {
        "id": "u1u7OOs0mYUX"
      },
      "execution_count": 4,
      "outputs": []
    },
    {
      "cell_type": "code",
      "source": [
        "for i in range(n):\n",
        "  gender_array.append(np.random.choice(gender))\n",
        "  income_array.append(np.random.choice(income))\n"
      ],
      "metadata": {
        "id": "tnZAI9mimizQ"
      },
      "execution_count": 5,
      "outputs": []
    },
    {
      "cell_type": "code",
      "source": [
        "\n",
        "\n"
      ],
      "metadata": {
        "id": "3uKKE596oDKQ"
      },
      "execution_count": 7,
      "outputs": []
    },
    {
      "cell_type": "code",
      "source": [],
      "metadata": {
        "id": "OQKkJTjGoO3T"
      },
      "execution_count": null,
      "outputs": []
    }
  ]
}